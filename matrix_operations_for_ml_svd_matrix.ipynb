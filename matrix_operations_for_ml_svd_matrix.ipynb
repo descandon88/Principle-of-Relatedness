{
  "nbformat": 4,
  "nbformat_minor": 0,
  "metadata": {
    "colab": {
      "provenance": [],
      "authorship_tag": "ABX9TyPCayMkEI2oT5eLeKEheVE1",
      "include_colab_link": true
    },
    "kernelspec": {
      "name": "python3",
      "display_name": "Python 3"
    },
    "language_info": {
      "name": "python"
    }
  },
  "cells": [
    {
      "cell_type": "markdown",
      "metadata": {
        "id": "view-in-github",
        "colab_type": "text"
      },
      "source": [
        "<a href=\"https://colab.research.google.com/github/descandon88/math-for-machine-learning/blob/main/matrix_operations_for_ml_svd_matrix.ipynb\" target=\"_parent\"><img src=\"https://colab.research.google.com/assets/colab-badge.svg\" alt=\"Open In Colab\"/></a>"
      ]
    },
    {
      "cell_type": "code",
      "execution_count": 1,
      "metadata": {
        "id": "QlsKT8jDL4w_"
      },
      "outputs": [],
      "source": [
        "import numpy as np"
      ]
    },
    {
      "cell_type": "markdown",
      "source": [
        "Singular Value decomposition (SVD)"
      ],
      "metadata": {
        "id": "pTvbB6RZMSwO"
      }
    },
    {
      "cell_type": "markdown",
      "source": [
        "As on slides, SVD of matrix A is:"
      ],
      "metadata": {
        "id": "baBQhhW_MTA6"
      }
    },
    {
      "cell_type": "code",
      "source": [
        "A = np.array([[-1,2],[3,-2],[5,7]])\n",
        "A"
      ],
      "metadata": {
        "colab": {
          "base_uri": "https://localhost:8080/"
        },
        "id": "GJ7xATDmMdz0",
        "outputId": "04e2c4de-bd0d-4126-9962-f30d7b97b013"
      },
      "execution_count": 2,
      "outputs": [
        {
          "output_type": "execute_result",
          "data": {
            "text/plain": [
              "array([[-1,  2],\n",
              "       [ 3, -2],\n",
              "       [ 5,  7]])"
            ]
          },
          "metadata": {},
          "execution_count": 2
        }
      ]
    },
    {
      "cell_type": "code",
      "source": [
        "U,d,VT=np.linalg.svd(A)"
      ],
      "metadata": {
        "id": "Z81Q0DzZMxVo"
      },
      "execution_count": 3,
      "outputs": []
    },
    {
      "cell_type": "code",
      "source": [
        "U"
      ],
      "metadata": {
        "colab": {
          "base_uri": "https://localhost:8080/"
        },
        "id": "_OjD1d10M3c_",
        "outputId": "f3a14cd4-f550-499e-da6f-dba45219a56e"
      },
      "execution_count": 4,
      "outputs": [
        {
          "output_type": "execute_result",
          "data": {
            "text/plain": [
              "array([[ 0.12708324,  0.47409506,  0.87125411],\n",
              "       [ 0.00164602, -0.87847553,  0.47778451],\n",
              "       [ 0.99189069, -0.0592843 , -0.11241989]])"
            ]
          },
          "metadata": {},
          "execution_count": 4
        }
      ]
    },
    {
      "cell_type": "code",
      "source": [
        "VT"
      ],
      "metadata": {
        "colab": {
          "base_uri": "https://localhost:8080/"
        },
        "id": "DVkaOpK0M5BA",
        "outputId": "d9edea22-f79f-42d7-c2b2-f8ed43f085a0"
      },
      "execution_count": 5,
      "outputs": [
        {
          "output_type": "execute_result",
          "data": {
            "text/plain": [
              "array([[ 0.55798885,  0.82984845],\n",
              "       [-0.82984845,  0.55798885]])"
            ]
          },
          "metadata": {},
          "execution_count": 5
        }
      ]
    },
    {
      "cell_type": "code",
      "source": [
        "print(np.transpose(VT))"
      ],
      "metadata": {
        "colab": {
          "base_uri": "https://localhost:8080/"
        },
        "id": "NF7JBPPPajNW",
        "outputId": "c9cecdcb-65c4-4ace-d6fa-e1ed26a89d69"
      },
      "execution_count": 6,
      "outputs": [
        {
          "output_type": "stream",
          "name": "stdout",
          "text": [
            "[[ 0.55798885 -0.82984845]\n",
            " [ 0.82984845  0.55798885]]\n"
          ]
        }
      ]
    },
    {
      "cell_type": "code",
      "source": [
        "d"
      ],
      "metadata": {
        "colab": {
          "base_uri": "https://localhost:8080/"
        },
        "id": "se7Tgux8NDHi",
        "outputId": "6df87fad-bb8c-477d-91e0-011fd02ab316"
      },
      "execution_count": 7,
      "outputs": [
        {
          "output_type": "execute_result",
          "data": {
            "text/plain": [
              "array([8.66918448, 4.10429538])"
            ]
          },
          "metadata": {},
          "execution_count": 7
        }
      ]
    },
    {
      "cell_type": "code",
      "source": [
        "import numpy as np\n",
        "from numpy.linalg import svd\n",
        "\n",
        "# define your matrix as a 2D numpy array\n",
        "A = np.array([[4, 0], [3, -5]])\n",
        "\n",
        "U, S, VT = svd(A)\n",
        "\n",
        "\n",
        "\n",
        "# check that this is an exact decomposition\n",
        "# @ is used for matrix multiplication in Py3, use np.matmul with Py2\n",
        "print(U @ np.diag(S) @ VT)"
      ],
      "metadata": {
        "id": "c2k1j_9mNDpM",
        "colab": {
          "base_uri": "https://localhost:8080/"
        },
        "outputId": "5e62fdbd-4f9b-455d-8e71-348fe4d75949"
      },
      "execution_count": 8,
      "outputs": [
        {
          "output_type": "stream",
          "name": "stdout",
          "text": [
            "[[ 4.00000000e+00 -1.11271234e-15]\n",
            " [ 3.00000000e+00 -5.00000000e+00]]\n"
          ]
        }
      ]
    },
    {
      "cell_type": "code",
      "source": [
        "print(\"Left Singular Vectors:\")\n",
        "print(U)"
      ],
      "metadata": {
        "id": "-0R8L0qloMRZ",
        "outputId": "5370899c-65b7-4819-c143-ac7a69d91a4a",
        "colab": {
          "base_uri": "https://localhost:8080/"
        }
      },
      "execution_count": 9,
      "outputs": [
        {
          "output_type": "stream",
          "name": "stdout",
          "text": [
            "Left Singular Vectors:\n",
            "[[-0.4472136  -0.89442719]\n",
            " [-0.89442719  0.4472136 ]]\n"
          ]
        }
      ]
    },
    {
      "cell_type": "code",
      "source": [
        "print(\"Singular Values:\") \n",
        "print(np.diag(S))"
      ],
      "metadata": {
        "id": "Ib3jKYteoM3s",
        "outputId": "20368d87-dcb7-4667-fd91-b34d545f173c",
        "colab": {
          "base_uri": "https://localhost:8080/"
        }
      },
      "execution_count": 10,
      "outputs": [
        {
          "output_type": "stream",
          "name": "stdout",
          "text": [
            "Singular Values:\n",
            "[[6.32455532 0.        ]\n",
            " [0.         3.16227766]]\n"
          ]
        }
      ]
    },
    {
      "cell_type": "code",
      "source": [
        "print(\"Right Singular Vectors:\") \n",
        "print(VT)"
      ],
      "metadata": {
        "id": "Y3Udk0ZloM81",
        "outputId": "e04b042d-9da2-433d-9a7f-b41b3f3b2a61",
        "colab": {
          "base_uri": "https://localhost:8080/"
        }
      },
      "execution_count": 12,
      "outputs": [
        {
          "output_type": "stream",
          "name": "stdout",
          "text": [
            "Right Singular Vectors:\n",
            "[[-0.70710678  0.70710678]\n",
            " [-0.70710678 -0.70710678]]\n"
          ]
        }
      ]
    },
    {
      "cell_type": "code",
      "source": [],
      "metadata": {
        "id": "MLt1c8XJFcpI"
      },
      "execution_count": 12,
      "outputs": []
    },
    {
      "cell_type": "markdown",
      "source": [
        "**OTRA FORMA DE DE CALCULAR SVD**"
      ],
      "metadata": {
        "id": "lNTNEMS5FnOD"
      }
    },
    {
      "cell_type": "code",
      "source": [
        "from numpy.linalg import svd"
      ],
      "metadata": {
        "id": "OfoPJ2fEFdSp"
      },
      "execution_count": 14,
      "outputs": []
    },
    {
      "cell_type": "code",
      "source": [
        "a = np.array([ [1, -0.8],\n",
        "             [ 0,1],\n",
        "             [1,0]\n",
        "])"
      ],
      "metadata": {
        "id": "DEqfAQkMFiXD"
      },
      "execution_count": 16,
      "outputs": []
    },
    {
      "cell_type": "code",
      "source": [
        "print(a);"
      ],
      "metadata": {
        "colab": {
          "base_uri": "https://localhost:8080/"
        },
        "id": "vIyi9FCJF7BS",
        "outputId": "297e4333-7c13-4f8e-f0f2-812f74c43f51"
      },
      "execution_count": 17,
      "outputs": [
        {
          "output_type": "stream",
          "name": "stdout",
          "text": [
            "[[ 1.  -0.8]\n",
            " [ 0.   1. ]\n",
            " [ 1.   0. ]]\n"
          ]
        }
      ]
    },
    {
      "cell_type": "code",
      "source": [
        "a.shape"
      ],
      "metadata": {
        "colab": {
          "base_uri": "https://localhost:8080/"
        },
        "id": "1XF7YTNjGLST",
        "outputId": "2a7af6fb-ecfd-48a5-99de-e61a50b39eac"
      },
      "execution_count": 19,
      "outputs": [
        {
          "output_type": "execute_result",
          "data": {
            "text/plain": [
              "(3, 2)"
            ]
          },
          "metadata": {},
          "execution_count": 19
        }
      ]
    },
    {
      "cell_type": "code",
      "source": [],
      "metadata": {
        "id": "Zqy_b4MnGO7y"
      },
      "execution_count": null,
      "outputs": []
    },
    {
      "cell_type": "code",
      "source": [
        "u,s,vT = svd(a,full_matrices=True); \n",
        "print(u.shape,s.shape,vT.shape)"
      ],
      "metadata": {
        "colab": {
          "base_uri": "https://localhost:8080/"
        },
        "id": "CiyS2lkqGM4K",
        "outputId": "34fbc705-4b99-48ad-d8fe-64c3c67ad50f"
      },
      "execution_count": 22,
      "outputs": [
        {
          "output_type": "stream",
          "name": "stdout",
          "text": [
            "(3, 3) (2,) (2, 2)\n"
          ]
        }
      ]
    },
    {
      "cell_type": "code",
      "source": [
        "u,s,vT = svd(a,full_matrices=False); \n",
        "print(u.shape,s.shape,vT.shape)"
      ],
      "metadata": {
        "colab": {
          "base_uri": "https://localhost:8080/"
        },
        "id": "GhmdMfC1Ggxj",
        "outputId": "77acb1c4-ac14-40cc-dc56-130dfc6e5642"
      },
      "execution_count": 23,
      "outputs": [
        {
          "output_type": "stream",
          "name": "stdout",
          "text": [
            "(3, 2) (2,) (2, 2)\n"
          ]
        }
      ]
    },
    {
      "cell_type": "code",
      "source": [
        "u"
      ],
      "metadata": {
        "colab": {
          "base_uri": "https://localhost:8080/"
        },
        "id": "7sqTwQZ6Gju6",
        "outputId": "b0822a64-2cd1-45c6-ae31-defecfe3bbdc"
      },
      "execution_count": 24,
      "outputs": [
        {
          "output_type": "execute_result",
          "data": {
            "text/plain": [
              "array([[-7.88170109e-01,  1.87057766e-16],\n",
              "       [ 3.84473224e-01, -7.80868809e-01],\n",
              "       [-4.80591530e-01, -6.24695048e-01]])"
            ]
          },
          "metadata": {},
          "execution_count": 24
        }
      ]
    },
    {
      "cell_type": "code",
      "source": [
        "s"
      ],
      "metadata": {
        "colab": {
          "base_uri": "https://localhost:8080/"
        },
        "id": "pZgAcGbxGmiL",
        "outputId": "43d9c5ce-587a-436d-bc32-32135d2df849"
      },
      "execution_count": 25,
      "outputs": [
        {
          "output_type": "execute_result",
          "data": {
            "text/plain": [
              "array([1.62480768, 1.        ])"
            ]
          },
          "metadata": {},
          "execution_count": 25
        }
      ]
    },
    {
      "cell_type": "code",
      "source": [
        "vT"
      ],
      "metadata": {
        "colab": {
          "base_uri": "https://localhost:8080/"
        },
        "id": "8DWDRa-SGngk",
        "outputId": "fe330f2b-26be-4560-dba7-49205583c51d"
      },
      "execution_count": 26,
      "outputs": [
        {
          "output_type": "execute_result",
          "data": {
            "text/plain": [
              "array([[-0.78086881,  0.62469505],\n",
              "       [-0.62469505, -0.78086881]])"
            ]
          },
          "metadata": {},
          "execution_count": 26
        }
      ]
    },
    {
      "cell_type": "code",
      "source": [
        "vT.T"
      ],
      "metadata": {
        "colab": {
          "base_uri": "https://localhost:8080/"
        },
        "id": "7a9psOj4GoVb",
        "outputId": "a597e504-29ce-4d4e-e02c-45649596c252"
      },
      "execution_count": 27,
      "outputs": [
        {
          "output_type": "execute_result",
          "data": {
            "text/plain": [
              "array([[-0.78086881, -0.62469505],\n",
              "       [ 0.62469505, -0.78086881]])"
            ]
          },
          "metadata": {},
          "execution_count": 27
        }
      ]
    },
    {
      "cell_type": "code",
      "source": [],
      "metadata": {
        "id": "DYAvZZkXHBtu"
      },
      "execution_count": null,
      "outputs": []
    },
    {
      "cell_type": "code",
      "source": [],
      "metadata": {
        "id": "PUhjyeDNGWJM"
      },
      "execution_count": 26,
      "outputs": []
    },
    {
      "cell_type": "code",
      "source": [],
      "metadata": {
        "id": "SHcj0GClGqH7"
      },
      "execution_count": null,
      "outputs": []
    },
    {
      "cell_type": "code",
      "source": [],
      "metadata": {
        "id": "fEUb2i_KGbFb"
      },
      "execution_count": null,
      "outputs": []
    }
  ]
}