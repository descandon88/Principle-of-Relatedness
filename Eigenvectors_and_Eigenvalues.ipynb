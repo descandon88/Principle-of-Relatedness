{
  "nbformat": 4,
  "nbformat_minor": 0,
  "metadata": {
    "colab": {
      "provenance": [],
      "collapsed_sections": [],
      "authorship_tag": "ABX9TyOZnqAsLA2nLnvb1iOXTFOj",
      "include_colab_link": true
    },
    "kernelspec": {
      "name": "python3",
      "display_name": "Python 3"
    },
    "language_info": {
      "name": "python"
    }
  },
  "cells": [
    {
      "cell_type": "markdown",
      "metadata": {
        "id": "view-in-github",
        "colab_type": "text"
      },
      "source": [
        "<a href=\"https://colab.research.google.com/github/descandon88/math-for-machine-learning/blob/main/Eigenvectors_and_Eigenvalues.ipynb\" target=\"_parent\"><img src=\"https://colab.research.google.com/assets/colab-badge.svg\" alt=\"Open In Colab\"/></a>"
      ]
    },
    {
      "cell_type": "code",
      "execution_count": 16,
      "metadata": {
        "id": "oAy5dhcyMIgp"
      },
      "outputs": [],
      "source": [
        "import numpy as np\n",
        "import pandas as pd\n",
        "import matplotlib.pyplot as plt\n",
        "import torch"
      ]
    },
    {
      "cell_type": "markdown",
      "source": [
        "**Eigenvectors and Eigenvalues**"
      ],
      "metadata": {
        "id": "pNNU7fGVMQPI"
      }
    },
    {
      "cell_type": "markdown",
      "source": [
        "An **eigenvector** is a special vector 𝓥 such that when it is transformed by some matrix (let's say *A*), the product *A*𝓥 has the exact same direction as 𝓥.\n",
        "\n",
        "An **eigenvalue** is a scalar (tradicional represented as 𝝀) that simply scales the eigenvector 𝓥 such that the following equation is satisfied: \n",
        "\n",
        "*A*𝓥 = 𝝀𝓥\n",
        "\n"
      ],
      "metadata": {
        "id": "vpTmJN_kMU5_"
      }
    },
    {
      "cell_type": "code",
      "source": [
        "A = ([-1,4],[2,-2])\n",
        "A"
      ],
      "metadata": {
        "colab": {
          "base_uri": "https://localhost:8080/"
        },
        "id": "DQz-8dXWMQyv",
        "outputId": "4930088e-5ae6-41be-e704-712515419084"
      },
      "execution_count": 2,
      "outputs": [
        {
          "output_type": "execute_result",
          "data": {
            "text/plain": [
              "([-1, 4], [2, -2])"
            ]
          },
          "metadata": {},
          "execution_count": 2
        }
      ]
    },
    {
      "cell_type": "markdown",
      "source": [
        "**Eigenvector** and **eigenvalues** can be derived algebraically (e.g., with QR algorithm, which was independently developed in the 1950s by both Vera Kublanovskaya and John Francis), however this is outside scope of today's class. We-ll cheat with numpy eig() method, which returns a tuple of: \n",
        "\n",
        "> a vector of eigenvalues\n",
        "\n",
        "> a matrix of eigenvectors\n",
        "\n",
        "\n",
        "\n"
      ],
      "metadata": {
        "id": "SDlwDbobOBxW"
      }
    },
    {
      "cell_type": "code",
      "source": [
        "lambdas, V = np.linalg.eig(A)"
      ],
      "metadata": {
        "id": "tSX8W0QyNIWs"
      },
      "execution_count": 3,
      "outputs": []
    },
    {
      "cell_type": "markdown",
      "source": [
        "The matrix contains as many eigenvectors as there are columns of A: "
      ],
      "metadata": {
        "id": "l1NwG60xQLCI"
      }
    },
    {
      "cell_type": "code",
      "source": [
        "V # cada columna es un eigenvector v separado"
      ],
      "metadata": {
        "colab": {
          "base_uri": "https://localhost:8080/"
        },
        "id": "f3nzMWI1NM4i",
        "outputId": "30e82df3-8eb6-40af-dbf4-64ef86ef72a1"
      },
      "execution_count": 4,
      "outputs": [
        {
          "output_type": "execute_result",
          "data": {
            "text/plain": [
              "array([[ 0.86011126, -0.76454754],\n",
              "       [ 0.51010647,  0.64456735]])"
            ]
          },
          "metadata": {},
          "execution_count": 4
        }
      ]
    },
    {
      "cell_type": "markdown",
      "source": [
        "With a corresponding eigenvalue for each eigenvector:"
      ],
      "metadata": {
        "id": "RE7Y_-ETP-3z"
      }
    },
    {
      "cell_type": "code",
      "source": [
        "lambdas"
      ],
      "metadata": {
        "colab": {
          "base_uri": "https://localhost:8080/"
        },
        "id": "MSOOa4kVP97i",
        "outputId": "34296f4e-db7e-42e2-da05-7e5fcde95cfc"
      },
      "execution_count": 5,
      "outputs": [
        {
          "output_type": "execute_result",
          "data": {
            "text/plain": [
              "array([ 1.37228132, -4.37228132])"
            ]
          },
          "metadata": {},
          "execution_count": 5
        }
      ]
    },
    {
      "cell_type": "markdown",
      "source": [
        "Let's confirm that  *A*𝓥 = 𝝀𝓥 for the  first eigenvector:\n"
      ],
      "metadata": {
        "id": "XAzlgqofQKSV"
      }
    },
    {
      "cell_type": "code",
      "source": [
        "v = V[:,0]\n",
        "v"
      ],
      "metadata": {
        "colab": {
          "base_uri": "https://localhost:8080/"
        },
        "id": "HLxR8dGmQIoo",
        "outputId": "3d99a4d2-8826-4f77-b813-704990ee4161"
      },
      "execution_count": 6,
      "outputs": [
        {
          "output_type": "execute_result",
          "data": {
            "text/plain": [
              "array([0.86011126, 0.51010647])"
            ]
          },
          "metadata": {},
          "execution_count": 6
        }
      ]
    },
    {
      "cell_type": "code",
      "source": [
        "lambduh = lambdas[0] # note that lambda is reserved term in Python \n",
        "lambduh"
      ],
      "metadata": {
        "colab": {
          "base_uri": "https://localhost:8080/"
        },
        "id": "doRgSIA2TOVH",
        "outputId": "abf7be40-ea92-4ac5-bdf9-dc13e3e1ff58"
      },
      "execution_count": 7,
      "outputs": [
        {
          "output_type": "execute_result",
          "data": {
            "text/plain": [
              "1.3722813232690143"
            ]
          },
          "metadata": {},
          "execution_count": 7
        }
      ]
    },
    {
      "cell_type": "code",
      "source": [
        "Av= np.dot(A,v)\n",
        "Av"
      ],
      "metadata": {
        "colab": {
          "base_uri": "https://localhost:8080/"
        },
        "id": "0oNtUKIbz_1g",
        "outputId": "bbe368d2-6581-4fab-c7a1-b7321ddd5b5b"
      },
      "execution_count": 8,
      "outputs": [
        {
          "output_type": "execute_result",
          "data": {
            "text/plain": [
              "array([1.18031462, 0.70000958])"
            ]
          },
          "metadata": {},
          "execution_count": 8
        }
      ]
    },
    {
      "cell_type": "code",
      "source": [
        "lambduh * v"
      ],
      "metadata": {
        "colab": {
          "base_uri": "https://localhost:8080/"
        },
        "id": "KoAg5Bk3TepU",
        "outputId": "43b6a0f9-0f7e-4a1c-ab80-4b11b54981b5"
      },
      "execution_count": 9,
      "outputs": [
        {
          "output_type": "execute_result",
          "data": {
            "text/plain": [
              "array([1.18031462, 0.70000958])"
            ]
          },
          "metadata": {},
          "execution_count": 9
        }
      ]
    },
    {
      "cell_type": "markdown",
      "source": [
        "Plot one or more vectors in a 2D plane, specifying a color for each. \n"
      ],
      "metadata": {
        "id": "fNxV5FI0Ukth"
      }
    },
    {
      "cell_type": "code",
      "source": [
        "def plot_vectors(vectors, colors):\n",
        "    \"\"\"\n",
        "    Plot one or more vectors in a 2D plane, specifying a color for each. \n",
        "\n",
        "    Arguments\n",
        "    ---------\n",
        "    vectors: list of lists or of arrays\n",
        "        Coordinates of the vectors to plot. For example, [[1, 3], [2, 2]] \n",
        "        contains two vectors to plot, [1, 3] and [2, 2].\n",
        "    colors: list\n",
        "        Colors of the vectors. For instance: ['red', 'blue'] will display the\n",
        "        first vector in red and the second in blue.\n",
        "        \n",
        "    Example\n",
        "    -------\n",
        "    plot_vectors([[1, 3], [2, 2]], ['red', 'blue'])\n",
        "    plt.xlim(-1, 4)\n",
        "    plt.ylim(-1, 4)\n",
        "    \"\"\"\n",
        "    plt.figure()\n",
        "    plt.axvline(x=0, color='lightgray')\n",
        "    plt.axhline(y=0, color='lightgray')\n",
        "\n",
        "    for i in range(len(vectors)):\n",
        "        x = np.concatenate([[0,0],vectors[i]])\n",
        "        plt.quiver([x[0]], [x[1]], [x[2]], [x[3]],\n",
        "                   angles='xy', scale_units='xy', scale=1, color=colors[i],)"
      ],
      "metadata": {
        "id": "SRdl0f4wUa3y"
      },
      "execution_count": 17,
      "outputs": []
    },
    {
      "cell_type": "code",
      "source": [
        "plot_vectors([Av,v],['blue','lightblue'])\n",
        "plt.xlim(-1,2)\n",
        "_= plt.ylim(-1,2)\n"
      ],
      "metadata": {
        "colab": {
          "base_uri": "https://localhost:8080/",
          "height": 269
        },
        "id": "qAyVR1mMWxvo",
        "outputId": "5225b2e5-3d3e-4cf1-c01e-66ea12e1ad1a"
      },
      "execution_count": 18,
      "outputs": [
        {
          "output_type": "display_data",
          "data": {
            "text/plain": [
              "<Figure size 432x288 with 1 Axes>"
            ],
            "image/png": "[encoded data removed]"
          },
          "metadata": {
            "needs_background": "light"
          }
        }
      ]
    },
    {
      "cell_type": "markdown",
      "source": [
        "And again for the second eigenvector of A:"
      ],
      "metadata": {
        "id": "AzandVI2TePv"
      }
    },
    {
      "cell_type": "code",
      "source": [
        "v2 = V[:,1]\n",
        "v2"
      ],
      "metadata": {
        "colab": {
          "base_uri": "https://localhost:8080/"
        },
        "id": "3E9OVvpCSG4C",
        "outputId": "852a7a72-f60e-42ad-efc4-28a3acfaa261"
      },
      "execution_count": 12,
      "outputs": [
        {
          "output_type": "execute_result",
          "data": {
            "text/plain": [
              "array([-0.76454754,  0.64456735])"
            ]
          },
          "metadata": {},
          "execution_count": 12
        }
      ]
    },
    {
      "cell_type": "code",
      "source": [
        "lambda2 = lambdas[1]\n",
        "lambda2"
      ],
      "metadata": {
        "colab": {
          "base_uri": "https://localhost:8080/"
        },
        "id": "9amHZebISLbo",
        "outputId": "90a07185-0297-446c-d735-b0742f7fd030"
      },
      "execution_count": 13,
      "outputs": [
        {
          "output_type": "execute_result",
          "data": {
            "text/plain": [
              "-4.372281323269014"
            ]
          },
          "metadata": {},
          "execution_count": 13
        }
      ]
    },
    {
      "cell_type": "code",
      "source": [
        "Av2 = np.dot(A,v2)\n",
        "Av2"
      ],
      "metadata": {
        "colab": {
          "base_uri": "https://localhost:8080/"
        },
        "id": "Sm04CNL-SR_e",
        "outputId": "5695150b-b3f5-487f-b204-eec457734e56"
      },
      "execution_count": 14,
      "outputs": [
        {
          "output_type": "execute_result",
          "data": {
            "text/plain": [
              "array([ 3.34281692, -2.81822977])"
            ]
          },
          "metadata": {},
          "execution_count": 14
        }
      ]
    },
    {
      "cell_type": "code",
      "source": [
        "lambda2 * v2"
      ],
      "metadata": {
        "colab": {
          "base_uri": "https://localhost:8080/"
        },
        "id": "Rt89tPshSW5p",
        "outputId": "aeb3000f-4062-4cd8-8f2a-0bf66887b019"
      },
      "execution_count": 15,
      "outputs": [
        {
          "output_type": "execute_result",
          "data": {
            "text/plain": [
              "array([ 3.34281692, -2.81822977])"
            ]
          },
          "metadata": {},
          "execution_count": 15
        }
      ]
    },
    {
      "cell_type": "code",
      "source": [
        "plot_vectors([Av,v,Av2,v2],['blue','lightblue','green','lightgreen'])\n",
        "plt.xlim(-1,4)\n",
        "_= plt.ylim(-3,2)\n"
      ],
      "metadata": {
        "colab": {
          "base_uri": "https://localhost:8080/",
          "height": 269
        },
        "id": "kdUulo2jSZtX",
        "outputId": "5b018eea-c809-460b-a565-2fe52ff6bd90"
      },
      "execution_count": 20,
      "outputs": [
        {
          "output_type": "display_data",
          "data": {
            "text/plain": [
              "<Figure size 432x288 with 1 Axes>"
            ],
            "image/png": "[encoded data removed]"
          },
          "metadata": {
            "needs_background": "light"
          }
        }
      ]
    },
    {
      "cell_type": "markdown",
      "source": [
        "Usando Pytorh"
      ],
      "metadata": {
        "id": "0njnD4NBVhcO"
      }
    },
    {
      "cell_type": "code",
      "source": [
        "A"
      ],
      "metadata": {
        "colab": {
          "base_uri": "https://localhost:8080/"
        },
        "id": "N4AMbDSFVjT7",
        "outputId": "b0457a92-401b-42a1-eb2a-57ce2930f1ae"
      },
      "execution_count": 21,
      "outputs": [
        {
          "output_type": "execute_result",
          "data": {
            "text/plain": [
              "([-1, 4], [2, -2])"
            ]
          },
          "metadata": {},
          "execution_count": 21
        }
      ]
    },
    {
      "cell_type": "code",
      "source": [
        "A_p = torch.tensor([[-1, 4], [2, -2.]])\n",
        "A_p"
      ],
      "metadata": {
        "colab": {
          "base_uri": "https://localhost:8080/"
        },
        "id": "4BbIp3-wVlVB",
        "outputId": "16a26207-b6c1-4079-bb59-8c87e1ac1ea5"
      },
      "execution_count": 25,
      "outputs": [
        {
          "output_type": "execute_result",
          "data": {
            "text/plain": [
              "tensor([[-1.,  4.],\n",
              "        [ 2., -2.]])"
            ]
          },
          "metadata": {},
          "execution_count": 25
        }
      ]
    },
    {
      "cell_type": "code",
      "source": [
        "#en pytorch los eigenvectors y eigenvalues no salen automaticamente al aplical la funcion eig()\n",
        "eigens = torch.eig(A_p,eigenvectors=True)\n",
        "eigens"
      ],
      "metadata": {
        "colab": {
          "base_uri": "https://localhost:8080/"
        },
        "id": "JXOl9SkSVzSL",
        "outputId": "304c2cf7-de60-4459-8951-c8b747632299"
      },
      "execution_count": 26,
      "outputs": [
        {
          "output_type": "stream",
          "name": "stderr",
          "text": [
            "/usr/local/lib/python3.7/dist-packages/ipykernel_launcher.py:1: UserWarning: torch.eig is deprecated in favor of torch.linalg.eig and will be removed in a future PyTorch release.\n",
            "torch.linalg.eig returns complex tensors of dtype cfloat or cdouble rather than real tensors mimicking complex tensors.\n",
            "L, _ = torch.eig(A)\n",
            "should be replaced with\n",
            "L_complex = torch.linalg.eigvals(A)\n",
            "and\n",
            "L, V = torch.eig(A, eigenvectors=True)\n",
            "should be replaced with\n",
            "L_complex, V_complex = torch.linalg.eig(A) (Triggered internally at  ../aten/src/ATen/native/BatchLinearAlgebra.cpp:3415.)\n",
            "  \"\"\"Entry point for launching an IPython kernel.\n"
          ]
        },
        {
          "output_type": "execute_result",
          "data": {
            "text/plain": [
              "torch.return_types.eig(\n",
              "eigenvalues=tensor([[ 1.3723,  0.0000],\n",
              "        [-4.3723,  0.0000]]),\n",
              "eigenvectors=tensor([[ 0.8601, -0.7645],\n",
              "        [ 0.5101,  0.6446]]))"
            ]
          },
          "metadata": {},
          "execution_count": 26
        }
      ]
    },
    {
      "cell_type": "code",
      "source": [
        "v_p=eigens.eigenvectors[:,0]\n",
        "v_p"
      ],
      "metadata": {
        "colab": {
          "base_uri": "https://localhost:8080/"
        },
        "id": "ZjZ8VreLWIgi",
        "outputId": "5d8eb26f-5c53-4290-cb10-a6e592ced43f"
      },
      "execution_count": 28,
      "outputs": [
        {
          "output_type": "execute_result",
          "data": {
            "text/plain": [
              "tensor([0.8601, 0.5101])"
            ]
          },
          "metadata": {},
          "execution_count": 28
        }
      ]
    },
    {
      "cell_type": "code",
      "source": [
        "lambda_p=eigens.eigenvalues[0][0]\n",
        "lambda_p"
      ],
      "metadata": {
        "colab": {
          "base_uri": "https://localhost:8080/"
        },
        "id": "8Yrpsfb_Wf0l",
        "outputId": "d7f50e68-0f2d-4a2c-dc20-0b1eff492edf"
      },
      "execution_count": 32,
      "outputs": [
        {
          "output_type": "execute_result",
          "data": {
            "text/plain": [
              "tensor(1.3723)"
            ]
          },
          "metadata": {},
          "execution_count": 32
        }
      ]
    },
    {
      "cell_type": "code",
      "source": [
        "Av_p = torch.matmul(A_p,v_p)\n",
        "Av_p"
      ],
      "metadata": {
        "colab": {
          "base_uri": "https://localhost:8080/"
        },
        "id": "OHl6FAgbXIh1",
        "outputId": "ac462a32-afd5-44a0-c38a-96f9fb325626"
      },
      "execution_count": 34,
      "outputs": [
        {
          "output_type": "execute_result",
          "data": {
            "text/plain": [
              "tensor([1.1803, 0.7000])"
            ]
          },
          "metadata": {},
          "execution_count": 34
        }
      ]
    },
    {
      "cell_type": "code",
      "source": [
        "lambda_p * v_p"
      ],
      "metadata": {
        "colab": {
          "base_uri": "https://localhost:8080/"
        },
        "id": "oNkO4uliXSpO",
        "outputId": "9f750e07-ade8-4db3-a804-0fe8891368e5"
      },
      "execution_count": 35,
      "outputs": [
        {
          "output_type": "execute_result",
          "data": {
            "text/plain": [
              "tensor([1.1803, 0.7000])"
            ]
          },
          "metadata": {},
          "execution_count": 35
        }
      ]
    }
  ]
}