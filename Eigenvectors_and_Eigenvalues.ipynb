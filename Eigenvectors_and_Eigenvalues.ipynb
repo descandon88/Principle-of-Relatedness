{
  "nbformat": 4,
  "nbformat_minor": 0,
  "metadata": {
    "colab": {
      "provenance": [],
      "authorship_tag": "ABX9TyNsMIHwaCekLQWlSDZUyI3s",
      "include_colab_link": true
    },
    "kernelspec": {
      "name": "python3",
      "display_name": "Python 3"
    },
    "language_info": {
      "name": "python"
    }
  },
  "cells": [
    {
      "cell_type": "markdown",
      "metadata": {
        "id": "view-in-github",
        "colab_type": "text"
      },
      "source": [
        "<a href=\"https://colab.research.google.com/github/descandon88/Relatedness-and-Singular-Value-Decomposition-SVD/blob/main/Eigenvectors_and_Eigenvalues.ipynb\" target=\"_parent\"><img src=\"https://colab.research.google.com/assets/colab-badge.svg\" alt=\"Open In Colab\"/></a>"
      ]
    },
    {
      "cell_type": "code",
      "execution_count": 4,
      "metadata": {
        "id": "oAy5dhcyMIgp"
      },
      "outputs": [],
      "source": [
        "import numpy as np\n",
        "import pandas as pd"
      ]
    },
    {
      "cell_type": "code",
      "source": [],
      "metadata": {
        "id": "uyRSTK4TObXM"
      },
      "execution_count": null,
      "outputs": []
    },
    {
      "cell_type": "markdown",
      "source": [
        "**Eigenvectors and Eigenvalues**"
      ],
      "metadata": {
        "id": "pNNU7fGVMQPI"
      }
    },
    {
      "cell_type": "markdown",
      "source": [
        "An **eigenvector** is a special vector *v* such that when it is transformed by some matrix (let's say *A*), the product Av has the exact same direction as *v*.\n",
        "\n",
        "An **eigenvalue** is a scalar (tradicional represented as λ) that simply scales the eigenvector v such that the following equation is satisfied: \n",
        "\n",
        "*Av* = λ*v* \n",
        "\n"
      ],
      "metadata": {
        "id": "vpTmJN_kMU5_"
      }
    },
    {
      "cell_type": "code",
      "source": [
        "A = ([-1,4],[2,-2])\n",
        "A"
      ],
      "metadata": {
        "colab": {
          "base_uri": "https://localhost:8080/"
        },
        "id": "DQz-8dXWMQyv",
        "outputId": "acd0a975-ab01-4aae-980b-20f1b41585c9"
      },
      "execution_count": 3,
      "outputs": [
        {
          "output_type": "execute_result",
          "data": {
            "text/plain": [
              "([-1, 4], [2, -2])"
            ]
          },
          "metadata": {},
          "execution_count": 3
        }
      ]
    },
    {
      "cell_type": "markdown",
      "source": [
        "**Eigenvector** and **eigenvalues** can be derived algebraically (e.g., with QR algorithm, which was independently developed in the 1950s by both Vera Kublanovskaya and John Francis), however this is outside scope of today-s class. We-ll cheat with numPy eig*("
      ],
      "metadata": {
        "id": "SDlwDbobOBxW"
      }
    },
    {
      "cell_type": "code",
      "source": [
        "lambdas, V = np.linalg.eig(A)"
      ],
      "metadata": {
        "id": "tSX8W0QyNIWs"
      },
      "execution_count": 5,
      "outputs": []
    },
    {
      "cell_type": "code",
      "source": [
        "V"
      ],
      "metadata": {
        "colab": {
          "base_uri": "https://localhost:8080/"
        },
        "id": "f3nzMWI1NM4i",
        "outputId": "1f4a6995-6af7-4c31-c92d-81ec6094885d"
      },
      "execution_count": 6,
      "outputs": [
        {
          "output_type": "execute_result",
          "data": {
            "text/plain": [
              "array([[ 0.86011126, -0.76454754],\n",
              "       [ 0.51010647,  0.64456735]])"
            ]
          },
          "metadata": {},
          "execution_count": 6
        }
      ]
    }
  ]
}